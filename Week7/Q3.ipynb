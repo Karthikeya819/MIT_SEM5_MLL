{
 "cells": [
  {
   "cell_type": "code",
   "execution_count": 1,
   "id": "e2c93a3e",
   "metadata": {},
   "outputs": [],
   "source": [
    "import pandas as pd\n",
    "import numpy as np"
   ]
  },
  {
   "cell_type": "code",
   "execution_count": 7,
   "id": "1aa62644",
   "metadata": {},
   "outputs": [],
   "source": [
    "df = pd.read_csv('datasets/q3_data.csv')"
   ]
  },
  {
   "cell_type": "code",
   "execution_count": 8,
   "id": "69be95be",
   "metadata": {},
   "outputs": [
    {
     "data": {
      "text/html": [
       "<div>\n",
       "<style scoped>\n",
       "    .dataframe tbody tr th:only-of-type {\n",
       "        vertical-align: middle;\n",
       "    }\n",
       "\n",
       "    .dataframe tbody tr th {\n",
       "        vertical-align: top;\n",
       "    }\n",
       "\n",
       "    .dataframe thead th {\n",
       "        text-align: right;\n",
       "    }\n",
       "</style>\n",
       "<table border=\"1\" class=\"dataframe\">\n",
       "  <thead>\n",
       "    <tr style=\"text-align: right;\">\n",
       "      <th></th>\n",
       "      <th>text</th>\n",
       "      <th>tag</th>\n",
       "    </tr>\n",
       "  </thead>\n",
       "  <tbody>\n",
       "    <tr>\n",
       "      <th>0</th>\n",
       "      <td>A great game</td>\n",
       "      <td>Sports</td>\n",
       "    </tr>\n",
       "    <tr>\n",
       "      <th>1</th>\n",
       "      <td>The election was over</td>\n",
       "      <td>Not sports</td>\n",
       "    </tr>\n",
       "    <tr>\n",
       "      <th>2</th>\n",
       "      <td>Very clean match</td>\n",
       "      <td>Sports</td>\n",
       "    </tr>\n",
       "    <tr>\n",
       "      <th>3</th>\n",
       "      <td>It was a close election</td>\n",
       "      <td>Not sports</td>\n",
       "    </tr>\n",
       "  </tbody>\n",
       "</table>\n",
       "</div>"
      ],
      "text/plain": [
       "                      text         tag\n",
       "0             A great game      Sports\n",
       "1    The election was over  Not sports\n",
       "2         Very clean match      Sports\n",
       "3  It was a close election  Not sports"
      ]
     },
     "execution_count": 8,
     "metadata": {},
     "output_type": "execute_result"
    }
   ],
   "source": [
    "df"
   ]
  },
  {
   "cell_type": "code",
   "execution_count": 19,
   "id": "f9a299f4",
   "metadata": {},
   "outputs": [
    {
     "data": {
      "text/html": [
       "<div>\n",
       "<style scoped>\n",
       "    .dataframe tbody tr th:only-of-type {\n",
       "        vertical-align: middle;\n",
       "    }\n",
       "\n",
       "    .dataframe tbody tr th {\n",
       "        vertical-align: top;\n",
       "    }\n",
       "\n",
       "    .dataframe thead th {\n",
       "        text-align: right;\n",
       "    }\n",
       "</style>\n",
       "<table border=\"1\" class=\"dataframe\">\n",
       "  <thead>\n",
       "    <tr style=\"text-align: right;\">\n",
       "      <th></th>\n",
       "      <th>text</th>\n",
       "      <th>tag</th>\n",
       "      <th>tokens</th>\n",
       "      <th>token_count</th>\n",
       "    </tr>\n",
       "  </thead>\n",
       "  <tbody>\n",
       "    <tr>\n",
       "      <th>0</th>\n",
       "      <td>A great game</td>\n",
       "      <td>Sports</td>\n",
       "      <td>[a, great, game]</td>\n",
       "      <td>3</td>\n",
       "    </tr>\n",
       "    <tr>\n",
       "      <th>1</th>\n",
       "      <td>The election was over</td>\n",
       "      <td>Not sports</td>\n",
       "      <td>[the, election, was, over]</td>\n",
       "      <td>4</td>\n",
       "    </tr>\n",
       "    <tr>\n",
       "      <th>2</th>\n",
       "      <td>Very clean match</td>\n",
       "      <td>Sports</td>\n",
       "      <td>[very, clean, match]</td>\n",
       "      <td>3</td>\n",
       "    </tr>\n",
       "    <tr>\n",
       "      <th>3</th>\n",
       "      <td>It was a close election</td>\n",
       "      <td>Not sports</td>\n",
       "      <td>[it, was, a, close, election]</td>\n",
       "      <td>5</td>\n",
       "    </tr>\n",
       "  </tbody>\n",
       "</table>\n",
       "</div>"
      ],
      "text/plain": [
       "                      text         tag                         tokens  \\\n",
       "0             A great game      Sports               [a, great, game]   \n",
       "1    The election was over  Not sports     [the, election, was, over]   \n",
       "2         Very clean match      Sports           [very, clean, match]   \n",
       "3  It was a close election  Not sports  [it, was, a, close, election]   \n",
       "\n",
       "   token_count  \n",
       "0            3  \n",
       "1            4  \n",
       "2            3  \n",
       "3            5  "
      ]
     },
     "execution_count": 19,
     "metadata": {},
     "output_type": "execute_result"
    }
   ],
   "source": [
    "df['tokens'] = df['text'].str.split()\n",
    "df['tokens'] = df['tokens'].apply(lambda tokens: [token.lower() for token in tokens])\n",
    "df['token_count'] = df['tokens'].apply(lambda token: len(token))\n",
    "df"
   ]
  },
  {
   "cell_type": "code",
   "execution_count": 46,
   "id": "13aab74e",
   "metadata": {},
   "outputs": [],
   "source": [
    "def Naive_Bayes(df, pred_col:str, A:str, B):\n",
    "    B = [word.lower() for word in B.split()]\n",
    "    prior_probability = float((df[pred_col] == A).astype(int).sum()) / df[pred_col].count()\n",
    "    \n",
    "    all_tokens = [word for sublist in df['tokens'] for word in sublist]\n",
    "    likelihood = 1\n",
    "    df_A = df[(df[pred_col] == A)]\n",
    "    tot = df_A['token_count'].sum() + len(set(all_tokens))\n",
    "    for word in B:\n",
    "        occ = float(df_A['tokens'].apply(lambda token: token.count(word)).sum())\n",
    "        likelihood *= (occ + 1) / tot\n",
    "\n",
    "    return (prior_probability * likelihood)"
   ]
  },
  {
   "cell_type": "code",
   "execution_count": 50,
   "id": "a15b3ec2",
   "metadata": {},
   "outputs": [
    {
     "name": "stdout",
     "output_type": "stream",
     "text": [
      "The prediction of column(tag) is Sports\n"
     ]
    }
   ],
   "source": [
    "pred_col = 'tag'\n",
    "text = \"A very close game\"\n",
    "probs = {}\n",
    "for A in df[pred_col].unique():\n",
    "    probs[A] = Naive_Bayes(df, pred_col, A, text)\n",
    "\n",
    "print(f'The prediction of column({pred_col}) is {max(probs)}')"
   ]
  }
 ],
 "metadata": {
  "kernelspec": {
   "display_name": "myenv",
   "language": "python",
   "name": "python3"
  },
  "language_info": {
   "codemirror_mode": {
    "name": "ipython",
    "version": 3
   },
   "file_extension": ".py",
   "mimetype": "text/x-python",
   "name": "python",
   "nbconvert_exporter": "python",
   "pygments_lexer": "ipython3",
   "version": "3.11.2"
  }
 },
 "nbformat": 4,
 "nbformat_minor": 5
}
