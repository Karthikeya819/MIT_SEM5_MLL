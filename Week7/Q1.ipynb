{
 "cells": [
  {
   "cell_type": "code",
   "execution_count": 1,
   "id": "0d3a5d32",
   "metadata": {},
   "outputs": [],
   "source": [
    "import pandas as pd\n",
    "import numpy as numpy"
   ]
  },
  {
   "cell_type": "markdown",
   "id": "04e92e79",
   "metadata": {},
   "source": [
    "## 1A)"
   ]
  },
  {
   "cell_type": "code",
   "execution_count": null,
   "id": "b911b2ad",
   "metadata": {},
   "outputs": [],
   "source": [
    "p_hostel = 0.6 # 60 Hostlers\n",
    "p_day_scholar = 0.4 # 40 Hostlers\n",
    "\n",
    "p_hostel_A_grade = 0.3 # 0.3*60 = 18\n",
    "p_day_scholar_A_grade = 0.2 # 0.2*40 = 8"
   ]
  },
  {
   "cell_type": "code",
   "execution_count": 3,
   "id": "435c68b4",
   "metadata": {},
   "outputs": [],
   "source": [
    "p_hostler_A_grade = (p_hostel_A_grade * p_hostel)/((p_hostel_A_grade*p_hostel + p_day_scholar_A_grade*p_day_scholar)/(p_hostel + p_day_scholar))"
   ]
  },
  {
   "cell_type": "code",
   "execution_count": 9,
   "id": "49330db3",
   "metadata": {},
   "outputs": [
    {
     "name": "stdout",
     "output_type": "stream",
     "text": [
      "P(hostel | A) = 0.6923076923076923\n"
     ]
    }
   ],
   "source": [
    "print(f'P(hostel | A) = {p_hostler_A_grade}')"
   ]
  },
  {
   "cell_type": "markdown",
   "id": "2e372289",
   "metadata": {},
   "source": [
    "## 1B)"
   ]
  },
  {
   "cell_type": "code",
   "execution_count": 6,
   "id": "5d8e6055",
   "metadata": {},
   "outputs": [],
   "source": [
    "p_disease = 0.01\n",
    "p_no_disease = 1 - p_disease\n",
    "p_disease_true = 0.99\n",
    "p_no_disease_true = 0.02"
   ]
  },
  {
   "cell_type": "code",
   "execution_count": 7,
   "id": "144227e5",
   "metadata": {},
   "outputs": [],
   "source": [
    "p_disease_given_true = (p_disease_true * p_disease)/(p_disease_true*p_disease + p_no_disease_true*p_no_disease)"
   ]
  },
  {
   "cell_type": "code",
   "execution_count": 10,
   "id": "9ea488cd",
   "metadata": {},
   "outputs": [
    {
     "name": "stdout",
     "output_type": "stream",
     "text": [
      "P(Disease | Positive) = 0.3333333333333333\n"
     ]
    }
   ],
   "source": [
    "print(f'P(Disease | Positive) = {p_disease_given_true}')"
   ]
  }
 ],
 "metadata": {
  "kernelspec": {
   "display_name": "myenv",
   "language": "python",
   "name": "python3"
  },
  "language_info": {
   "codemirror_mode": {
    "name": "ipython",
    "version": 3
   },
   "file_extension": ".py",
   "mimetype": "text/x-python",
   "name": "python",
   "nbconvert_exporter": "python",
   "pygments_lexer": "ipython3",
   "version": "3.11.2"
  }
 },
 "nbformat": 4,
 "nbformat_minor": 5
}
