{
 "cells": [
  {
   "cell_type": "code",
   "execution_count": 70,
   "id": "95ab7f12",
   "metadata": {},
   "outputs": [],
   "source": [
    "import numpy as np\n",
    "import pandas as pd\n",
    "from sklearn.inspection import DecisionBoundaryDisplay\n",
    "import matplotlib.pyplot as plt"
   ]
  },
  {
   "cell_type": "code",
   "execution_count": 93,
   "id": "8ebd8bfc",
   "metadata": {},
   "outputs": [],
   "source": [
    "class LSSVM:\n",
    "    def fit(self, X, y, gamma):\n",
    "        n_sam, _ = X.shape\n",
    "\n",
    "        K = X @ X.T\n",
    "\n",
    "        omega = K + np.eye(n_sam) / gamma\n",
    "        A = np.zeros((n_sam + 1, n_sam + 1))\n",
    "        A[0, 0] = 0\n",
    "        A[0, 1:] = 1\n",
    "        A[1:, 0] = 1\n",
    "        A[1:, 1:] = omega\n",
    "\n",
    "        b_vec = np.zeros(n_sam + 1)\n",
    "        b_vec[1:] = y\n",
    "\n",
    "        solution = np.linalg.solve(A, b_vec)\n",
    "\n",
    "        self.intercept_ = np.array([solution[0]])\n",
    "        alpha = np.array([solution[1:]])\n",
    "\n",
    "        self.coef_ = (alpha * y) @ X\n",
    "\n",
    "    def predict(self, X):\n",
    "        decision_function = X @ self.coef_.T + self.intercept_\n",
    "        return np.sign(decision_function).ravel()"
   ]
  },
  {
   "cell_type": "code",
   "execution_count": 94,
   "id": "8f84f789",
   "metadata": {},
   "outputs": [],
   "source": [
    "df = pd.read_csv('datasets/q2_data.csv').values\n",
    "X = df[:, :2]\n",
    "Y = df[:, 2]"
   ]
  },
  {
   "cell_type": "code",
   "execution_count": 95,
   "id": "22381c33",
   "metadata": {},
   "outputs": [],
   "source": [
    "svm = LSSVM()"
   ]
  },
  {
   "cell_type": "code",
   "execution_count": 96,
   "id": "1b85452e",
   "metadata": {},
   "outputs": [],
   "source": [
    "svm.fit(X, Y, 0.5)"
   ]
  },
  {
   "cell_type": "code",
   "execution_count": 97,
   "id": "01fc5d8e",
   "metadata": {},
   "outputs": [
    {
     "data": {
      "image/png": "[encoded data removed]",
      "text/plain": [
       "<Figure size 640x480 with 1 Axes>"
      ]
     },
     "metadata": {},
     "output_type": "display_data"
    }
   ],
   "source": [
    "DecisionBoundaryDisplay.from_estimator(svm, X, response_method=\"predict\", cmap=plt.cm.Spectral, alpha=0.8)\n",
    "plt.scatter(X[:, 0], X[:, 1], c=Y, s=20, edgecolors=\"k\")\n",
    "\n",
    "plt.show()"
   ]
  }
 ],
 "metadata": {
  "kernelspec": {
   "display_name": "myenv",
   "language": "python",
   "name": "python3"
  },
  "language_info": {
   "codemirror_mode": {
    "name": "ipython",
    "version": 3
   },
   "file_extension": ".py",
   "mimetype": "text/x-python",
   "name": "python",
   "nbconvert_exporter": "python",
   "pygments_lexer": "ipython3",
   "version": "3.11.2"
  }
 },
 "nbformat": 4,
 "nbformat_minor": 5
}
