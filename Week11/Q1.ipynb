{
 "cells": [
  {
   "cell_type": "code",
   "execution_count": 25,
   "id": "edb17c3a",
   "metadata": {},
   "outputs": [],
   "source": [
    "import numpy as np\n",
    "from typing import Literal\n",
    "from scipy.cluster.hierarchy import dendrogram\n",
    "import matplotlib.pyplot as plt"
   ]
  },
  {
   "cell_type": "code",
   "execution_count": null,
   "id": "667f0552",
   "metadata": {},
   "outputs": [],
   "source": [
    "import numpy as np\n",
    "from typing import Literal\n",
    "\n",
    "class HierarchicalClassification:\n",
    "    def __init__(self, linkage: Literal[\"single\", \"complete\", \"average\"] = 'single'):\n",
    "        self.linkage = linkage\n",
    "\n",
    "    def fit(self, data):\n",
    "        data = np.array(data)\n",
    "        n = len(data)\n",
    "\n",
    "        proximity_matrix = np.full((n, n), np.inf, dtype=np.float32)\n",
    "        for i in range(n):\n",
    "            for j in range(i + 1, n):\n",
    "                dist = self.distance(data[i], data[j])\n",
    "                proximity_matrix[i, j] = dist\n",
    "\n",
    "        clusters = {i: [i] for i in range(n)}\n",
    "        cluster_sizes = {i: 1 for i in range(n)}\n",
    "\n",
    "        linkage_matrix = []\n",
    "\n",
    "        current_cluster_id = n\n",
    "\n",
    "        while len(clusters) > 1:\n",
    "            min_dist = np.inf\n",
    "            pair_to_merge = None\n",
    "\n",
    "            cluster_ids = list(clusters.keys())\n",
    "            for i in range(len(cluster_ids)):\n",
    "                for j in range(i + 1, len(cluster_ids)):\n",
    "                    c1 = cluster_ids[i]\n",
    "                    c2 = cluster_ids[j]\n",
    "\n",
    "                    dist = self.linkage_distance(clusters[c1], clusters[c2], data)\n",
    "                    if dist < min_dist:\n",
    "                        min_dist = dist\n",
    "                        pair_to_merge = (c1, c2)\n",
    "\n",
    "            c1, c2 = pair_to_merge\n",
    "\n",
    "            size1 = cluster_sizes[c1]\n",
    "            size2 = cluster_sizes[c2]\n",
    "            linkage_matrix.append([c1, c2, min_dist, size1 + size2])\n",
    "\n",
    "            new_cluster_members = clusters[c1] + clusters[c2]\n",
    "\n",
    "\n",
    "            del clusters[c1]\n",
    "            del clusters[c2]\n",
    "            del cluster_sizes[c1]\n",
    "            del cluster_sizes[c2]\n",
    "\n",
    "            clusters[current_cluster_id] = new_cluster_members\n",
    "            cluster_sizes[current_cluster_id] = size1 + size2\n",
    "\n",
    "            current_cluster_id += 1\n",
    "\n",
    "        return np.array(linkage_matrix)\n",
    "\n",
    "    def linkage_distance(self, cluster1, cluster2, data):\n",
    "        distances = []\n",
    "        for i in cluster1:\n",
    "            for j in cluster2:\n",
    "                dist = self.distance(data[i], data[j])\n",
    "                distances.append(dist)\n",
    "\n",
    "        if self.linkage == 'single':\n",
    "            return min(distances)\n",
    "        elif self.linkage == 'complete':\n",
    "            return max(distances)\n",
    "        elif self.linkage == 'average':\n",
    "            return np.mean(distances)\n",
    "        else:\n",
    "            raise ValueError(f\"Unknown linkage type: {self.linkage}\")\n",
    "\n",
    "    def distance(self, p1, p2):\n",
    "        return np.sqrt(np.sum((p1 - p2) ** 2))"
   ]
  },
  {
   "cell_type": "code",
   "execution_count": 23,
   "id": "b2686832",
   "metadata": {},
   "outputs": [],
   "source": [
    "model = HierarchicalClassification()\n",
    "matrix = model.fit([18, 22, 25, 27, 42, 43])"
   ]
  },
  {
   "cell_type": "code",
   "execution_count": 26,
   "id": "5c1dab13",
   "metadata": {},
   "outputs": [
    {
     "data": {
      "image/png": "[encoded data removed]",
      "text/plain": [
       "<Figure size 640x480 with 1 Axes>"
      ]
     },
     "metadata": {},
     "output_type": "display_data"
    }
   ],
   "source": [
    "dendrogram(matrix)\n",
    "plt.show()"
   ]
  }
 ],
 "metadata": {
  "kernelspec": {
   "display_name": "myenv",
   "language": "python",
   "name": "python3"
  },
  "language_info": {
   "codemirror_mode": {
    "name": "ipython",
    "version": 3
   },
   "file_extension": ".py",
   "mimetype": "text/x-python",
   "name": "python",
   "nbconvert_exporter": "python",
   "pygments_lexer": "ipython3",
   "version": "3.11.2"
  }
 },
 "nbformat": 4,
 "nbformat_minor": 5
}
