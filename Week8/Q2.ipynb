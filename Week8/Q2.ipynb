{
 "cells": [
  {
   "cell_type": "code",
   "execution_count": 71,
   "id": "b10ab1cb",
   "metadata": {},
   "outputs": [],
   "source": [
    "import numpy as np\n",
    "import pandas as pd\n",
    "import math"
   ]
  },
  {
   "cell_type": "code",
   "execution_count": 72,
   "id": "f86439ae",
   "metadata": {},
   "outputs": [],
   "source": [
    "df = pd.read_csv('datasets/q2_data.csv')"
   ]
  },
  {
   "cell_type": "code",
   "execution_count": 73,
   "id": "a2afde15",
   "metadata": {},
   "outputs": [
    {
     "data": {
      "text/html": [
       "<div>\n",
       "<style scoped>\n",
       "    .dataframe tbody tr th:only-of-type {\n",
       "        vertical-align: middle;\n",
       "    }\n",
       "\n",
       "    .dataframe tbody tr th {\n",
       "        vertical-align: top;\n",
       "    }\n",
       "\n",
       "    .dataframe thead th {\n",
       "        text-align: right;\n",
       "    }\n",
       "</style>\n",
       "<table border=\"1\" class=\"dataframe\">\n",
       "  <thead>\n",
       "    <tr style=\"text-align: right;\">\n",
       "      <th></th>\n",
       "      <th>Id</th>\n",
       "      <th>Age</th>\n",
       "      <th>Blood_Pressure</th>\n",
       "      <th>Cholesterol</th>\n",
       "      <th>Diagnosis</th>\n",
       "    </tr>\n",
       "  </thead>\n",
       "  <tbody>\n",
       "    <tr>\n",
       "      <th>0</th>\n",
       "      <td>1</td>\n",
       "      <td>30</td>\n",
       "      <td>High</td>\n",
       "      <td>High</td>\n",
       "      <td>Sick</td>\n",
       "    </tr>\n",
       "    <tr>\n",
       "      <th>1</th>\n",
       "      <td>2</td>\n",
       "      <td>45</td>\n",
       "      <td>Low</td>\n",
       "      <td>Normal</td>\n",
       "      <td>Healthy</td>\n",
       "    </tr>\n",
       "    <tr>\n",
       "      <th>2</th>\n",
       "      <td>3</td>\n",
       "      <td>50</td>\n",
       "      <td>High</td>\n",
       "      <td>High</td>\n",
       "      <td>Sick</td>\n",
       "    </tr>\n",
       "    <tr>\n",
       "      <th>3</th>\n",
       "      <td>4</td>\n",
       "      <td>35</td>\n",
       "      <td>Low</td>\n",
       "      <td>Normal</td>\n",
       "      <td>Healthy</td>\n",
       "    </tr>\n",
       "    <tr>\n",
       "      <th>4</th>\n",
       "      <td>5</td>\n",
       "      <td>60</td>\n",
       "      <td>High</td>\n",
       "      <td>High</td>\n",
       "      <td>Sick</td>\n",
       "    </tr>\n",
       "    <tr>\n",
       "      <th>5</th>\n",
       "      <td>6</td>\n",
       "      <td>55</td>\n",
       "      <td>Low</td>\n",
       "      <td>Normal</td>\n",
       "      <td>Healthy</td>\n",
       "    </tr>\n",
       "    <tr>\n",
       "      <th>6</th>\n",
       "      <td>7</td>\n",
       "      <td>40</td>\n",
       "      <td>High</td>\n",
       "      <td>High</td>\n",
       "      <td>Sick</td>\n",
       "    </tr>\n",
       "    <tr>\n",
       "      <th>7</th>\n",
       "      <td>8</td>\n",
       "      <td>25</td>\n",
       "      <td>Low</td>\n",
       "      <td>Normal</td>\n",
       "      <td>Healthy</td>\n",
       "    </tr>\n",
       "    <tr>\n",
       "      <th>8</th>\n",
       "      <td>9</td>\n",
       "      <td>65</td>\n",
       "      <td>High</td>\n",
       "      <td>High</td>\n",
       "      <td>Sick</td>\n",
       "    </tr>\n",
       "    <tr>\n",
       "      <th>9</th>\n",
       "      <td>10</td>\n",
       "      <td>45</td>\n",
       "      <td>Low</td>\n",
       "      <td>Normal</td>\n",
       "      <td>Healthy</td>\n",
       "    </tr>\n",
       "  </tbody>\n",
       "</table>\n",
       "</div>"
      ],
      "text/plain": [
       "   Id  Age Blood_Pressure Cholesterol Diagnosis\n",
       "0   1   30           High        High      Sick\n",
       "1   2   45            Low      Normal   Healthy\n",
       "2   3   50           High        High      Sick\n",
       "3   4   35            Low      Normal   Healthy\n",
       "4   5   60           High        High      Sick\n",
       "5   6   55            Low      Normal   Healthy\n",
       "6   7   40           High        High      Sick\n",
       "7   8   25            Low      Normal   Healthy\n",
       "8   9   65           High        High      Sick\n",
       "9  10   45            Low      Normal   Healthy"
      ]
     },
     "execution_count": 73,
     "metadata": {},
     "output_type": "execute_result"
    }
   ],
   "source": [
    "df"
   ]
  },
  {
   "cell_type": "code",
   "execution_count": 74,
   "id": "38cf7140",
   "metadata": {},
   "outputs": [],
   "source": [
    "def entropy(data):\n",
    "    total = len(data)\n",
    "    if total == 0:\n",
    "        return 0\n",
    "    counts = data['Diagnosis'].value_counts()\n",
    "    entropy = 0\n",
    "    for count in counts:\n",
    "        p = count / total\n",
    "        entropy -= p * math.log2(p)\n",
    "    return entropy\n",
    "\n",
    "def info_gain(df, feature):\n",
    "    total_entropy = entropy(df)\n",
    "    values = df[feature].unique()\n",
    "    weighted_entropy = 0\n",
    "    for val in values:\n",
    "        subset = df[df[feature] == val]\n",
    "        weighted_entropy += (len(subset) / len(df)) * entropy(subset)\n",
    "    return total_entropy - weighted_entropy"
   ]
  },
  {
   "cell_type": "code",
   "execution_count": 75,
   "id": "4aa36b19",
   "metadata": {},
   "outputs": [
    {
     "name": "stdout",
     "output_type": "stream",
     "text": [
      "Entropy(Diagnosis): 1.0\n"
     ]
    }
   ],
   "source": [
    "print(\"Entropy(Diagnosis):\", entropy(df))"
   ]
  },
  {
   "cell_type": "code",
   "execution_count": 76,
   "id": "59f5c9dc",
   "metadata": {},
   "outputs": [
    {
     "name": "stdout",
     "output_type": "stream",
     "text": [
      "Information Gain (Age): 0.12451124978365313\n",
      "Information Gain (Blood_Pressure): 1.0\n",
      "Information Gain (Cholesterol): 1.0\n"
     ]
    }
   ],
   "source": [
    "for feature in ['Age', 'Blood_Pressure', 'Cholesterol']:\n",
    "    if feature == 'Age':\n",
    "        df['AgeGroup'] = df['Age'].apply(lambda x: '<=45' if x <= 45 else '>45')\n",
    "        ig = info_gain(df, 'AgeGroup')\n",
    "        print(f\"Information Gain ({feature}):\", ig)\n",
    "    else:\n",
    "        ig = info_gain(df, feature)\n",
    "        print(f\"Information Gain ({feature}):\", ig)"
   ]
  },
  {
   "cell_type": "code",
   "execution_count": 77,
   "id": "60723419",
   "metadata": {},
   "outputs": [],
   "source": [
    "class Node:\n",
    "    def __init__(self, feature):\n",
    "        self.feature = feature\n",
    "        self.children = {}\n",
    "\n",
    "\n",
    "\n",
    "def recursion(data, cols):\n",
    "    if len(cols) == 0:\n",
    "        return Node(data['Diagnosis'].value_counts().idxmax())\n",
    "    info_gains = [info_gain(data, col) for col in cols]\n",
    "    ftr_idx = np.argmax(info_gains)\n",
    "    feature = cols[ftr_idx]\n",
    "    tree = Node(feature)\n",
    "    \n",
    "    # Children nodes\n",
    "    cols.remove(feature)\n",
    "    for child in data[feature].unique():\n",
    "        df_child = df[df[feature] == child]\n",
    "        tree.children[child] = recursion(df_child ,cols.copy())\n",
    "    \n",
    "    return tree\n"
   ]
  },
  {
   "cell_type": "code",
   "execution_count": 78,
   "id": "a647ff23",
   "metadata": {},
   "outputs": [],
   "source": [
    "def predict(tree, data):\n",
    "    while True:\n",
    "        if len(tree.children) == 0:\n",
    "            print(tree.feature)\n",
    "            break\n",
    "        feature = tree.feature\n",
    "        tree = tree.children[data[feature]]"
   ]
  },
  {
   "cell_type": "code",
   "execution_count": 79,
   "id": "14650a6d",
   "metadata": {},
   "outputs": [
    {
     "name": "stdout",
     "output_type": "stream",
     "text": [
      "Sick\n"
     ]
    }
   ],
   "source": [
    "data = {'Blood_Pressure': 'Low', 'Cholesterol': 'Normal', 'AgeGroup': '>45'}\n",
    "predict(tree, data)"
   ]
  }
 ],
 "metadata": {
  "kernelspec": {
   "display_name": "myenv",
   "language": "python",
   "name": "python3"
  },
  "language_info": {
   "codemirror_mode": {
    "name": "ipython",
    "version": 3
   },
   "file_extension": ".py",
   "mimetype": "text/x-python",
   "name": "python",
   "nbconvert_exporter": "python",
   "pygments_lexer": "ipython3",
   "version": "3.11.2"
  }
 },
 "nbformat": 4,
 "nbformat_minor": 5
}
