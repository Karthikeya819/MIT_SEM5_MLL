{
 "cells": [
  {
   "cell_type": "code",
   "execution_count": 17,
   "id": "a432e533",
   "metadata": {},
   "outputs": [],
   "source": [
    "import numpy as np\n",
    "import pandas as pd\n",
    "import matplotlib.pyplot as plt"
   ]
  },
  {
   "cell_type": "code",
   "execution_count": 18,
   "id": "16549ba2",
   "metadata": {},
   "outputs": [
    {
     "data": {
      "text/html": [
       "<div>\n",
       "<style scoped>\n",
       "    .dataframe tbody tr th:only-of-type {\n",
       "        vertical-align: middle;\n",
       "    }\n",
       "\n",
       "    .dataframe tbody tr th {\n",
       "        vertical-align: top;\n",
       "    }\n",
       "\n",
       "    .dataframe thead th {\n",
       "        text-align: right;\n",
       "    }\n",
       "</style>\n",
       "<table border=\"1\" class=\"dataframe\">\n",
       "  <thead>\n",
       "    <tr style=\"text-align: right;\">\n",
       "      <th></th>\n",
       "      <th>Pregnancies</th>\n",
       "      <th>Glucose</th>\n",
       "      <th>BloodPressure</th>\n",
       "      <th>SkinThickness</th>\n",
       "      <th>Insulin</th>\n",
       "      <th>BMI</th>\n",
       "      <th>DiabetesPedigreeFunction</th>\n",
       "      <th>Age</th>\n",
       "      <th>Outcome</th>\n",
       "    </tr>\n",
       "  </thead>\n",
       "  <tbody>\n",
       "    <tr>\n",
       "      <th>0</th>\n",
       "      <td>6</td>\n",
       "      <td>148</td>\n",
       "      <td>72</td>\n",
       "      <td>35</td>\n",
       "      <td>0</td>\n",
       "      <td>33.6</td>\n",
       "      <td>0.627</td>\n",
       "      <td>50</td>\n",
       "      <td>1</td>\n",
       "    </tr>\n",
       "    <tr>\n",
       "      <th>1</th>\n",
       "      <td>1</td>\n",
       "      <td>85</td>\n",
       "      <td>66</td>\n",
       "      <td>29</td>\n",
       "      <td>0</td>\n",
       "      <td>26.6</td>\n",
       "      <td>0.351</td>\n",
       "      <td>31</td>\n",
       "      <td>0</td>\n",
       "    </tr>\n",
       "    <tr>\n",
       "      <th>2</th>\n",
       "      <td>8</td>\n",
       "      <td>183</td>\n",
       "      <td>64</td>\n",
       "      <td>0</td>\n",
       "      <td>0</td>\n",
       "      <td>23.3</td>\n",
       "      <td>0.672</td>\n",
       "      <td>32</td>\n",
       "      <td>1</td>\n",
       "    </tr>\n",
       "    <tr>\n",
       "      <th>3</th>\n",
       "      <td>1</td>\n",
       "      <td>89</td>\n",
       "      <td>66</td>\n",
       "      <td>23</td>\n",
       "      <td>94</td>\n",
       "      <td>28.1</td>\n",
       "      <td>0.167</td>\n",
       "      <td>21</td>\n",
       "      <td>0</td>\n",
       "    </tr>\n",
       "    <tr>\n",
       "      <th>4</th>\n",
       "      <td>0</td>\n",
       "      <td>137</td>\n",
       "      <td>40</td>\n",
       "      <td>35</td>\n",
       "      <td>168</td>\n",
       "      <td>43.1</td>\n",
       "      <td>2.288</td>\n",
       "      <td>33</td>\n",
       "      <td>1</td>\n",
       "    </tr>\n",
       "  </tbody>\n",
       "</table>\n",
       "</div>"
      ],
      "text/plain": [
       "   Pregnancies  Glucose  BloodPressure  SkinThickness  Insulin   BMI  \\\n",
       "0            6      148             72             35        0  33.6   \n",
       "1            1       85             66             29        0  26.6   \n",
       "2            8      183             64              0        0  23.3   \n",
       "3            1       89             66             23       94  28.1   \n",
       "4            0      137             40             35      168  43.1   \n",
       "\n",
       "   DiabetesPedigreeFunction  Age  Outcome  \n",
       "0                     0.627   50        1  \n",
       "1                     0.351   31        0  \n",
       "2                     0.672   32        1  \n",
       "3                     0.167   21        0  \n",
       "4                     2.288   33        1  "
      ]
     },
     "execution_count": 18,
     "metadata": {},
     "output_type": "execute_result"
    }
   ],
   "source": [
    "df = pd.read_csv('datasets/Week 3 diabetes_csv.csv')\n",
    "df.head(5)"
   ]
  },
  {
   "cell_type": "code",
   "execution_count": 19,
   "id": "16f2934e",
   "metadata": {},
   "outputs": [],
   "source": [
    "df.drop(['BloodPressure', 'SkinThickness'], axis='columns', inplace=True)\n",
    "df.dropna(inplace=True)\n",
    "\n",
    "train_X = df['Glucose']\n",
    "train_Y = df['Outcome']"
   ]
  },
  {
   "cell_type": "code",
   "execution_count": 30,
   "id": "3ef1d083",
   "metadata": {},
   "outputs": [],
   "source": [
    "def Accuracy(Y, Y_pred):\n",
    "    Y, Y_pred = np.array(Y, dtype=np.int16), np.array(Y_pred, dtype=np.int16)\n",
    "    correct = (Y == Y_pred).sum()\n",
    "    return correct / len(Y)\n"
   ]
  },
  {
   "cell_type": "code",
   "execution_count": 21,
   "id": "07e8a1f8",
   "metadata": {},
   "outputs": [],
   "source": [
    "class LinearRegressionPedhazur:\n",
    "    def __init__(self):\n",
    "        self.beta_0 = None\n",
    "        self.beta_1 = None\n",
    "\n",
    "    def fit(self, X, Y):\n",
    "        X = np.array(X)\n",
    "        Y = np.array(Y)\n",
    "\n",
    "        X_mean = np.mean(X)\n",
    "        Y_mean = np.mean(Y)\n",
    "\n",
    "        self.beta_1 = (np.sum((X - X_mean) * (Y - Y_mean))) / (np.sum((X - X_mean)**2))\n",
    "        self.beta_0 = Y_mean - self.beta_1 * X_mean\n",
    "    \n",
    "    def predict(self, X):\n",
    "        X = np.array(X)\n",
    "        return self.beta_0 + self.beta_1 * X"
   ]
  },
  {
   "cell_type": "code",
   "execution_count": 22,
   "id": "f74bdda4",
   "metadata": {},
   "outputs": [],
   "source": [
    "class LinearRegressionCalculus:\n",
    "    def __init__(self):\n",
    "        self.beta_0 = None\n",
    "        self.beta_1 = None\n",
    "\n",
    "    def fit(self, X, Y):\n",
    "        X = np.array(X)\n",
    "        Y = np.array(Y)\n",
    "\n",
    "        n = len(X)\n",
    "        sum_x = np.sum(X)\n",
    "        sum_x2 = np.sum(X ** 2)\n",
    "\n",
    "        sum_y = np.sum(Y)\n",
    "        sum_xy = np.sum(X*Y)\n",
    "\n",
    "        MAT1 = np.array([[n, sum_x],[sum_x, sum_x2]])\n",
    "        MAT2 = np.array([[sum_y],[sum_xy]])\n",
    "\n",
    "        inv_MAT1 = np.linalg.inv(MAT1)\n",
    "        self.beta_0, self.beta_1 = (inv_MAT1 @ MAT2).flatten()\n",
    "    def predict(self, X):\n",
    "        X = np.array(X)\n",
    "        return self.beta_0 + self.beta_1 * X"
   ]
  },
  {
   "cell_type": "code",
   "execution_count": 33,
   "id": "bdf967e9",
   "metadata": {},
   "outputs": [
    {
     "name": "stdout",
     "output_type": "stream",
     "text": [
      "Coefficients for Pedhazur are (-0.49249489634012683, 0.006960225751927552)\n",
      "Accuracy for Pedhazur is 74.73958333333334%\n"
     ]
    }
   ],
   "source": [
    "model1 = LinearRegressionPedhazur()\n",
    "model1.fit(train_X, train_Y)\n",
    "Y_pred = np.array(model1.predict(train_X) > 0.5, dtype=np.int16)\n",
    "\n",
    "print(f'Coefficients for Pedhazur are ({model1.beta_0}, {model1.beta_1})')\n",
    "print(f'Accuracy for Pedhazur is {Accuracy(train_Y, Y_pred)*100}%')\n"
   ]
  },
  {
   "cell_type": "code",
   "execution_count": 34,
   "id": "f2265257",
   "metadata": {},
   "outputs": [
    {
     "data": {
      "image/png": "[encoded data removed]",
      "text/plain": [
       "<Figure size 640x480 with 1 Axes>"
      ]
     },
     "metadata": {},
     "output_type": "display_data"
    }
   ],
   "source": [
    "plt.scatter(train_X, train_Y, c='red', label='y')\n",
    "plt.scatter(train_X, Y_pred, c='blue', label='y_pred')\n",
    "plt.legend(loc='lower right')\n",
    "plt.title('Pedhazur Method')\n",
    "plt.show()"
   ]
  },
  {
   "cell_type": "code",
   "execution_count": null,
   "id": "3e42cf87",
   "metadata": {},
   "outputs": [
    {
     "name": "stdout",
     "output_type": "stream",
     "text": [
      "Coefficients for Pedhazur are (-0.49249489634012766, 0.006960225751927554)\n",
      "Accuracy for Pedhazur is 74.73958333333334%\n"
     ]
    }
   ],
   "source": [
    "model2 = LinearRegressionCalculus()\n",
    "model2.fit(train_X, train_Y)\n",
    "Y_pred = np.array(model2.predict(train_X) > 0.5, dtype=np.int16)\n",
    "\n",
    "print(f'Coefficients for Calculus are ({model2.beta_0}, {model2.beta_1})')\n",
    "print(f'Accuracy for Calculus is {Accuracy(train_Y, Y_pred)*100}%')"
   ]
  },
  {
   "cell_type": "code",
   "execution_count": 36,
   "id": "177ee8ea",
   "metadata": {},
   "outputs": [
    {
     "data": {
      "image/png": "[encoded data removed]",
      "text/plain": [
       "<Figure size 640x480 with 1 Axes>"
      ]
     },
     "metadata": {},
     "output_type": "display_data"
    }
   ],
   "source": [
    "plt.scatter(train_X, train_Y, c='red', label='y')\n",
    "plt.scatter(train_X, Y_pred, c='blue', label='y_pred')\n",
    "plt.legend(loc='lower right')\n",
    "plt.title('Calculus Method')\n",
    "plt.show()"
   ]
  }
 ],
 "metadata": {
  "kernelspec": {
   "display_name": "myenv",
   "language": "python",
   "name": "python3"
  },
  "language_info": {
   "codemirror_mode": {
    "name": "ipython",
    "version": 3
   },
   "file_extension": ".py",
   "mimetype": "text/x-python",
   "name": "python",
   "nbconvert_exporter": "python",
   "pygments_lexer": "ipython3",
   "version": "3.11.2"
  }
 },
 "nbformat": 4,
 "nbformat_minor": 5
}
