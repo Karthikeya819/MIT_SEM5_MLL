{
 "cells": [
  {
   "cell_type": "code",
   "execution_count": 49,
   "metadata": {},
   "outputs": [],
   "source": [
    "import numpy as np\n",
    "import pandas as pd"
   ]
  },
  {
   "cell_type": "code",
   "execution_count": 50,
   "metadata": {},
   "outputs": [],
   "source": [
    "# Linear Regression\n",
    "# Pedhazur Method\n",
    "# Caluculius Method\n",
    "# Logistic Regression\n",
    "# Stocastic Gradient Descent"
   ]
  },
  {
   "cell_type": "code",
   "execution_count": 51,
   "metadata": {},
   "outputs": [],
   "source": [
    "def RMSE(Y, Y_pred):\n",
    "    Y, Y_pred = np.array(Y), np.array(Y_pred)\n",
    "    err = np.mean((Y_pred - Y) ** 2)\n",
    "    return err**0.5\n",
    "\n",
    "def MSE(Y, Y_pred):\n",
    "    Y, Y_pred = np.array(Y), np.array(Y_pred)\n",
    "    return np.mean((Y_pred - Y) ** 2)\n",
    "\n",
    "def error(Y, Y_pred):\n",
    "    Y, Y_pred = np.array(Y), np.array(Y_pred)\n",
    "    return np.sum(Y_pred - Y)"
   ]
  },
  {
   "cell_type": "code",
   "execution_count": 52,
   "metadata": {},
   "outputs": [],
   "source": [
    "class LinearRegressionPedhazur:\n",
    "    def __init__(self):\n",
    "        self.slope = None\n",
    "        self.intercept = None\n",
    "    \n",
    "    def predict(self, X):\n",
    "        X = np.array(X)\n",
    "        return self.slope*X + self.intercept\n",
    "    \n",
    "    def fit(self, X, Y):\n",
    "        X, Y = np.array(X), np.array(Y)\n",
    "\n",
    "        x_mean = np.mean(X)\n",
    "        y_mean = np.mean(Y)\n",
    "\n",
    "        self.slope = (np.sum((X-x_mean) * (Y-y_mean)))/(np.sum((X - x_mean) ** 2))\n",
    "        self.intercept = y_mean - self.slope*x_mean"
   ]
  },
  {
   "cell_type": "code",
   "execution_count": 53,
   "metadata": {},
   "outputs": [],
   "source": [
    "df = pd.read_csv('../Week3/datasets/sample.csv')"
   ]
  },
  {
   "cell_type": "code",
   "execution_count": 54,
   "metadata": {},
   "outputs": [
    {
     "name": "stdout",
     "output_type": "stream",
     "text": [
      "0.5909090909090909 2.2727272727272725\n"
     ]
    }
   ],
   "source": [
    "model = LinearRegressionPedhazur()\n",
    "model.fit(df['X'], df['Y'])\n",
    "print(model.slope, model.intercept)"
   ]
  },
  {
   "cell_type": "code",
   "execution_count": 55,
   "metadata": {},
   "outputs": [],
   "source": [
    "class LinearRegressionCalculus:\n",
    "    def __init__(self):\n",
    "        self.coefficients = None\n",
    "    \n",
    "    def fit(self, X, Y):\n",
    "        X, Y = np.array(X), np.array(Y)\n",
    "        n = len(X)\n",
    "        X = np.insert(X, 0, np.ones(n), axis=1)\n",
    "        X_T = X.T\n",
    "        A = X_T @ X\n",
    "        B = X_T @ Y\n",
    "        self.coefficients = np.linalg.inv(A) @ B\n",
    "\n",
    "    \n",
    "    def predict(self, X):\n",
    "        X = np.array(X)\n",
    "        n = len(X)\n",
    "        X = np.insert(X, 0, np.ones(n), axis=1)\n",
    "        return X @ self.coefficients"
   ]
  },
  {
   "cell_type": "code",
   "execution_count": 56,
   "metadata": {},
   "outputs": [],
   "source": [
    "model1 = LinearRegressionCalculus()\n",
    "model1.fit(df['X'].values.reshape(-1, 1), df['Y'].values.reshape(-1, 1))\n",
    "pred = model1.predict(df['X'].values.reshape(-1, 1))"
   ]
  },
  {
   "cell_type": "code",
   "execution_count": 58,
   "metadata": {},
   "outputs": [
    {
     "data": {
      "text/plain": [
       "5.020661157024793"
      ]
     },
     "execution_count": 58,
     "metadata": {},
     "output_type": "execute_result"
    }
   ],
   "source": [
    "RMSE(df['Y'].values.reshape(-1, 1), pred)"
   ]
  },
  {
   "cell_type": "code",
   "execution_count": 91,
   "metadata": {},
   "outputs": [],
   "source": [
    "class SimplePolynomialRegression:\n",
    "    def __init__(self, degree=2):\n",
    "        self.degree = degree\n",
    "        self.coefficients = None\n",
    "    \n",
    "    def fit(self, X, Y):\n",
    "        X, Y = np.array(X), np.array(Y)\n",
    "        X_features = np.ones((X.shape[0], self.degree + 1))\n",
    "\n",
    "        for i in range(1, self.degree + 1):\n",
    "            X_features[:, i] = (X ** i).flatten()\n",
    "       \n",
    "        A = X_features.T @ X_features\n",
    "        B = X_features.T @ Y\n",
    "        self.coefficients = np.linalg.inv(A) @ B\n",
    "    \n",
    "    def predict(self, X):\n",
    "        X = np.array(X)\n",
    "        X_features = np.ones((X.shape[0], self.degree + 1))\n",
    "\n",
    "        for i in range(1, self.degree + 1):\n",
    "            X_features[:, i] = (X ** i).flatten()\n",
    "\n",
    "        return X_features @ self.coefficients\n",
    "\n"
   ]
  },
  {
   "cell_type": "code",
   "execution_count": 92,
   "metadata": {},
   "outputs": [],
   "source": [
    "df1 = pd.read_csv('../Week4/datasets/sampledata1.csv')"
   ]
  },
  {
   "cell_type": "code",
   "execution_count": 93,
   "metadata": {},
   "outputs": [
    {
     "name": "stdout",
     "output_type": "stream",
     "text": [
      "[[ 7.96048110e+00]\n",
      " [-1.53711340e-01]\n",
      " [ 1.07560137e-03]]\n"
     ]
    }
   ],
   "source": [
    "model2 = SimplePolynomialRegression(2)\n",
    "model2.fit(df1['Temp'].values.reshape(-1, 1), df1['Yield'].values.reshape(-1, 1))\n",
    "pred1 = model2.predict(df1['Temp'].values.reshape(-1, 1))\n",
    "\n",
    "print(model2.coefficients)"
   ]
  },
  {
   "cell_type": "code",
   "execution_count": 96,
   "metadata": {},
   "outputs": [],
   "source": [
    "df2 = pd.read_csv('../Week4/datasets/sampledata2.csv')\n",
    "df2.drop(['Group'], axis='columns', inplace=True)"
   ]
  },
  {
   "cell_type": "code",
   "execution_count": 103,
   "metadata": {},
   "outputs": [
    {
     "name": "stdout",
     "output_type": "stream",
     "text": [
      "[-0.13453638  0.61265498 -0.24348223 -0.06565569]\n"
     ]
    }
   ],
   "source": [
    "model3 = LinearRegressionCalculus()\n",
    "X, Y = df2.drop('Infarc', axis='columns').values, df2['Infarc']\n",
    "model3.fit(X, Y)\n",
    "pred2 = model3.predict(X)\n",
    "print(model3.coefficients)"
   ]
  },
  {
   "cell_type": "code",
   "execution_count": 147,
   "metadata": {},
   "outputs": [],
   "source": [
    "class LinearRegressionGradientDescent:\n",
    "    def __init__(self, alpha, epoches, noOfVars):\n",
    "        self.alpha = alpha\n",
    "        self.epoches = epoches\n",
    "        self.noOfVars = noOfVars\n",
    "        self.coefeicients = np.zeros(noOfVars + 1)\n",
    "    \n",
    "    def fit(self, X, Y):\n",
    "        X, Y = np.array(X), np.array(Y)\n",
    "        for _ in range(self.epoches):\n",
    "            for iter in range(len(X)):\n",
    "                for i in range(self.noOfVars + 1):\n",
    "                    self.coefeicients[i] -= self.alpha * self.der_rmse(X[iter], Y[iter], i-1)[0]\n",
    "    \n",
    "    def der_rmse(self, X, Y, i):\n",
    "        if X.ndim == 0:\n",
    "            X = np.array([X])\n",
    "        if i == -1:\n",
    "            return (self.predict([X]) - Y)\n",
    "        return X[i] * (self.predict([X]) - Y)\n",
    "    \n",
    "    def predict(self, X):\n",
    "        X = np.array(X)\n",
    "        if X.ndim == 1:\n",
    "            X = np.insert(X, 0, 1)\n",
    "        else:\n",
    "            X = np.insert(X, 0, 1, axis=1)\n",
    "        return X @ self.coefeicients"
   ]
  },
  {
   "cell_type": "code",
   "execution_count": 148,
   "metadata": {},
   "outputs": [],
   "source": [
    "df3 = pd.read_csv('../Week5/datasets/q1_data.csv')"
   ]
  },
  {
   "cell_type": "code",
   "execution_count": 149,
   "metadata": {},
   "outputs": [
    {
     "name": "stdout",
     "output_type": "stream",
     "text": [
      "[0.01640781 1.01491833]\n"
     ]
    }
   ],
   "source": [
    "X, Y = df3['mother_height'].values, df3['daughter_height'].values\n",
    "model4 = LinearRegressionGradientDescent(0.0001, 4, 1)\n",
    "model4.fit(X, Y)\n",
    "pred3 = model4.predict(X.reshape(-1, 1))\n",
    "\n",
    "print(model4.coefeicients)"
   ]
  },
  {
   "cell_type": "code",
   "execution_count": 151,
   "metadata": {},
   "outputs": [],
   "source": [
    "class LogisticRegressionGradientDescent:\n",
    "    def __init__(self, alpha, epoches, noOfVars):\n",
    "        self.alpha = alpha\n",
    "        self.epoches = epoches\n",
    "        self.noOfVars = noOfVars\n",
    "        self.coefeicients = np.zeros(noOfVars + 1)\n",
    "    \n",
    "    def sigmoid(z):\n",
    "        return 1 / (1 + np.exp(-z))\n",
    "    \n",
    "    def fit(self, X, Y):\n",
    "        X, Y = np.array(X), np.array(Y)\n",
    "        for _ in range(self.epoches):\n",
    "            for iter in range(len(X)):\n",
    "                self.coefeicients -= self.alpha * self.der_logloss(X[iter], Y[iter])\n",
    "    \n",
    "    def der_logloss(self, X, Y):\n",
    "        X = np.insert(X, 0, 1)\n",
    "        return X * (self.predict(X[1:]) - Y)\n",
    "    \n",
    "    def predict(self, X):\n",
    "        X = np.array(X)\n",
    "        if X.ndim == 1:\n",
    "            X = np.insert(X, 0, 1)\n",
    "        else:\n",
    "            X = np.insert(X, 0, 1, axis=1)\n",
    "        z = X @ self.coefeicients\n",
    "        return LogisticRegressionGradientDescent.sigmoid(z)"
   ]
  },
  {
   "cell_type": "code",
   "execution_count": 152,
   "metadata": {},
   "outputs": [],
   "source": [
    "df4 = pd.read_csv('../Week5/datasets/q2_data.csv')"
   ]
  },
  {
   "cell_type": "code",
   "execution_count": 156,
   "metadata": {},
   "outputs": [
    {
     "name": "stdout",
     "output_type": "stream",
     "text": [
      "[-3.59024746  0.89747649]\n"
     ]
    }
   ],
   "source": [
    "X, Y = df4['no_of_hours_study'].values.reshape(-1, 1), df4['pass']\n",
    "model5 = LogisticRegressionGradientDescent(0.01, 500, 1)\n",
    "model5.fit(X, Y)\n",
    "pred4 = model5.predict(X)\n",
    "\n",
    "print(model5.coefeicients)"
   ]
  },
  {
   "cell_type": "code",
   "execution_count": null,
   "metadata": {},
   "outputs": [],
   "source": []
  }
 ],
 "metadata": {
  "kernelspec": {
   "display_name": "Python 3",
   "language": "python",
   "name": "python3"
  },
  "language_info": {
   "codemirror_mode": {
    "name": "ipython",
    "version": 3
   },
   "file_extension": ".py",
   "mimetype": "text/x-python",
   "name": "python",
   "nbconvert_exporter": "python",
   "pygments_lexer": "ipython3",
   "version": "3.10.12"
  }
 },
 "nbformat": 4,
 "nbformat_minor": 2
}
